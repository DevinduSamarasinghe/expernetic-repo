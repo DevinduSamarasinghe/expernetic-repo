{
 "cells": [
  {
   "cell_type": "markdown",
   "metadata": {},
   "source": [
    "# Task 01 Supervised Learning Model"
   ]
  },
  {
   "cell_type": "markdown",
   "metadata": {},
   "source": [
    "## 1. Data Visualization"
   ]
  },
  {
   "cell_type": "code",
   "execution_count": 24,
   "metadata": {},
   "outputs": [],
   "source": [
    "import pandas as pd \n",
    "import numpy as np \n",
    "import matplotlib.pyplot as plt \n",
    "import seaborn as sns"
   ]
  },
  {
   "cell_type": "code",
   "execution_count": 25,
   "metadata": {},
   "outputs": [],
   "source": [
    "items = pd.read_csv('datasets/item.csv')\n",
    "sales = pd.read_csv('datasets/sales.csv')\n",
    "supermarkets = pd.read_csv('datasets/supermarkets.csv')\n",
    "promotions = pd.read_csv('datasets/promotion.csv')"
   ]
  },
  {
   "cell_type": "code",
   "execution_count": 26,
   "metadata": {},
   "outputs": [
    {
     "data": {
      "text/html": [
       "<div>\n",
       "<style scoped>\n",
       "    .dataframe tbody tr th:only-of-type {\n",
       "        vertical-align: middle;\n",
       "    }\n",
       "\n",
       "    .dataframe tbody tr th {\n",
       "        vertical-align: top;\n",
       "    }\n",
       "\n",
       "    .dataframe thead th {\n",
       "        text-align: right;\n",
       "    }\n",
       "</style>\n",
       "<table border=\"1\" class=\"dataframe\">\n",
       "  <thead>\n",
       "    <tr style=\"text-align: right;\">\n",
       "      <th></th>\n",
       "      <th>code</th>\n",
       "      <th>descrption</th>\n",
       "      <th>type</th>\n",
       "      <th>brand</th>\n",
       "      <th>size</th>\n",
       "    </tr>\n",
       "  </thead>\n",
       "  <tbody>\n",
       "    <tr>\n",
       "      <th>0</th>\n",
       "      <td>3000005040</td>\n",
       "      <td>AUNT JEM ORIGINAL PANCAKE MIX</td>\n",
       "      <td>Type 1</td>\n",
       "      <td>Aunt Jemima</td>\n",
       "      <td>2 LB</td>\n",
       "    </tr>\n",
       "    <tr>\n",
       "      <th>1</th>\n",
       "      <td>3000005070</td>\n",
       "      <td>A/JEM COMPLETE PANCAKE MI</td>\n",
       "      <td>Type 1</td>\n",
       "      <td>Aunt Jemima</td>\n",
       "      <td>32    OZ</td>\n",
       "    </tr>\n",
       "    <tr>\n",
       "      <th>2</th>\n",
       "      <td>3000005300</td>\n",
       "      <td>AJ BUTTERMILK PANCAKE MIX</td>\n",
       "      <td>Type 1</td>\n",
       "      <td>Aunt Jemima</td>\n",
       "      <td>32 OZ</td>\n",
       "    </tr>\n",
       "    <tr>\n",
       "      <th>3</th>\n",
       "      <td>3000005350</td>\n",
       "      <td>A J BTRMLK COMP PNCK MIX</td>\n",
       "      <td>Type 1</td>\n",
       "      <td>Aunt Jemima</td>\n",
       "      <td>1 LB</td>\n",
       "    </tr>\n",
       "    <tr>\n",
       "      <th>4</th>\n",
       "      <td>1600015760</td>\n",
       "      <td>BC PANCAKE MIX BUTTERMILK</td>\n",
       "      <td>Type 1</td>\n",
       "      <td>Bisquick</td>\n",
       "      <td>6.75 OZ</td>\n",
       "    </tr>\n",
       "  </tbody>\n",
       "</table>\n",
       "</div>"
      ],
      "text/plain": [
       "         code                     descrption    type        brand      size\n",
       "0  3000005040  AUNT JEM ORIGINAL PANCAKE MIX  Type 1  Aunt Jemima      2 LB\n",
       "1  3000005070      A/JEM COMPLETE PANCAKE MI  Type 1  Aunt Jemima  32    OZ\n",
       "2  3000005300      AJ BUTTERMILK PANCAKE MIX  Type 1  Aunt Jemima     32 OZ\n",
       "3  3000005350       A J BTRMLK COMP PNCK MIX  Type 1  Aunt Jemima      1 LB\n",
       "4  1600015760      BC PANCAKE MIX BUTTERMILK  Type 1     Bisquick   6.75 OZ"
      ]
     },
     "execution_count": 26,
     "metadata": {},
     "output_type": "execute_result"
    }
   ],
   "source": [
    "items.head()\n",
    "# sales.head()\n",
    "# supermarkets.head()\n",
    "# promotions.head()"
   ]
  },
  {
   "cell_type": "code",
   "execution_count": 27,
   "metadata": {},
   "outputs": [],
   "source": [
    "def summarize_column_types(df):\n",
    "    dtype_mapping = {\n",
    "        'int64': 'integer',\n",
    "        'float64': 'float',\n",
    "        'object': 'string',\n",
    "        'bool': 'boolean',\n",
    "        'datetime64[ns]': 'datetime',\n",
    "        'category': 'categorical',\n",
    "    }\n",
    "    \n",
    "    #generate the summary\n",
    "    summary = df.dtypes.reset_index()\n",
    "    summary.columns = ['Column Name', 'Pandas Data Type']\n",
    "    summary['Primitive Datatype'] = summary['Pandas Data Type'].astype(str).fillna('unknown')\n",
    "    return summary"
   ]
  },
  {
   "cell_type": "code",
   "execution_count": 28,
   "metadata": {},
   "outputs": [
    {
     "name": "stdout",
     "output_type": "stream",
     "text": [
      "      Column Name Pandas Data Type Primitive Datatype\n",
      "0  supermarket_No            int64              int64\n",
      "1     postal-code            int64              int64 \n",
      "\n",
      "    Column Name Pandas Data Type Primitive Datatype\n",
      "0          code            int64              int64\n",
      "1        amount          float64            float64\n",
      "2         units            int64              int64\n",
      "3          time            int64              int64\n",
      "4      province            int64              int64\n",
      "5          week            int64              int64\n",
      "6    customerId            int64              int64\n",
      "7   supermarket            int64              int64\n",
      "8        basket            int64              int64\n",
      "9           day            int64              int64\n",
      "10      voucher            int64              int64 \n",
      "\n",
      "      Column Name Pandas Data Type Primitive Datatype\n",
      "0  supermarket_No            int64              int64\n",
      "1     postal-code            int64              int64 \n",
      "\n",
      "  Column Name Pandas Data Type Primitive Datatype\n",
      "0        code            int64              int64\n",
      "1  descrption           object             object\n",
      "2        type           object             object\n",
      "3       brand           object             object\n",
      "4        size           object             object\n",
      "\n"
     ]
    }
   ],
   "source": [
    "summary_items = summarize_column_types(items)\n",
    "summary_supermarkets = summarize_column_types(supermarkets)\n",
    "summary_promotions = summarize_column_types(promotions)\n",
    "summary_sales = summarize_column_types(sales)\n",
    "\n",
    "print(f'{summary_supermarkets} \\n')\n",
    "print(f'{summary_sales} \\n')\n",
    "print(f'{summary_supermarkets} \\n')\n",
    "print(f\"{summary_items}\\n\")"
   ]
  },
  {
   "cell_type": "markdown",
   "metadata": {},
   "source": [
    "### Finding Duplicates"
   ]
  },
  {
   "cell_type": "code",
   "execution_count": 29,
   "metadata": {},
   "outputs": [
    {
     "name": "stdout",
     "output_type": "stream",
     "text": [
      "Number of duplicate records found: 0\n",
      "Number of duplicated Items found: 0\n",
      "Number of Duplicated Sales : 0\n",
      "Number of Duplicated Promotions: 0\n"
     ]
    }
   ],
   "source": [
    "duplicate_supermarkets = supermarkets[supermarkets.duplicated(subset=['supermarket_No', 'postal-code'])]\n",
    "print(f'Number of duplicate records found: {len(duplicate_supermarkets)}')\n",
    "\n",
    "duplicate_items = supermarkets[supermarkets.duplicated()]\n",
    "print(f'Number of duplicated Items found: {len(duplicate_items)}')\n",
    "\n",
    "duplicate_sales = sales[sales.duplicated()]\n",
    "print(f\"Number of Duplicated Sales : {len(duplicate_sales)}\")\n",
    "\n",
    "duplicated_promotions = promotions[promotions.duplicated()]\n",
    "print(f'Number of Duplicated Promotions: {len(duplicated_promotions)}')"
   ]
  },
  {
   "cell_type": "markdown",
   "metadata": {},
   "source": [
    "### Finding Features with Missing Values"
   ]
  },
  {
   "cell_type": "code",
   "execution_count": 30,
   "metadata": {},
   "outputs": [],
   "source": [
    "def display_missing_values(df, dataset_name):\n",
    "    \n",
    "    df.replace(r'^\\s*$', np.nan, regex=True, inplace=True)\n",
    "    print(f\"\\nMissing value information for {dataset_name}\")\n",
    "    \n",
    "    #count missnig values in each column \n",
    "    missing_info = df.isnull().sum()\n",
    "    missing_info = missing_info[missing_info > 0] #filter columns with atleast 1 missing value\n",
    "    \n",
    "    if not missing_info.empty:\n",
    "        print('Columns with Missing Values: ')\n",
    "        print(missing_info)\n",
    "        print(f\"\\nTotal columns with missing values: {len(missing_info)}\")\n",
    "    \n",
    "    else:\n",
    "        print(\"No missing values in the dataset\")\n",
    "    "
   ]
  },
  {
   "cell_type": "code",
   "execution_count": 31,
   "metadata": {},
   "outputs": [
    {
     "name": "stdout",
     "output_type": "stream",
     "text": [
      "\n",
      "Missing value information for Items\n",
      "Columns with Missing Values: \n",
      "size    3\n",
      "dtype: int64\n",
      "\n",
      "Total columns with missing values: 1\n",
      "\n",
      "Missing value information for Sales\n",
      "No missing values in the dataset\n",
      "\n",
      "Missing value information for supermarkets\n",
      "No missing values in the dataset\n",
      "\n",
      "Missing value information for promotions\n",
      "No missing values in the dataset\n"
     ]
    }
   ],
   "source": [
    "display_missing_values(items, 'Items')\n",
    "display_missing_values(sales, 'Sales')\n",
    "display_missing_values(supermarkets, 'supermarkets')\n",
    "display_missing_values(promotions, 'promotions')"
   ]
  },
  {
   "cell_type": "markdown",
   "metadata": {},
   "source": [
    "`Based on the information and the relationship between datasets, the ideal problem to solve would be to see the efficiency of the promotion in supermarkets.`\n",
    "`Due to the inconsistencies in size attribute in items. It will be omitted. Even though it would vastly impact in sales forecasting and efficiency power, inconsistencies in the values can reduce the performance of the model`"
   ]
  },
  {
   "cell_type": "markdown",
   "metadata": {},
   "source": [
    "### Cleaning Data Inconsistencies \n",
    "\n",
    "1. Removing Incosnsitent values by converting to the right data format.\n",
    "2. Standardizing the strings \n",
    "3. Feature Engineering "
   ]
  },
  {
   "cell_type": "markdown",
   "metadata": {},
   "source": [
    "### Renaming columns for dataframe merging"
   ]
  },
  {
   "cell_type": "code",
   "execution_count": 54,
   "metadata": {},
   "outputs": [],
   "source": [
    "promotions.rename(columns={'supermarkets':'supermarket'}, inplace=True)\n",
    "supermarkets.rename(columns={'supermarket_No':'supermarket'}, inplace=True)"
   ]
  },
  {
   "cell_type": "code",
   "execution_count": 55,
   "metadata": {},
   "outputs": [
    {
     "data": {
      "text/html": [
       "<div>\n",
       "<style scoped>\n",
       "    .dataframe tbody tr th:only-of-type {\n",
       "        vertical-align: middle;\n",
       "    }\n",
       "\n",
       "    .dataframe tbody tr th {\n",
       "        vertical-align: top;\n",
       "    }\n",
       "\n",
       "    .dataframe thead th {\n",
       "        text-align: right;\n",
       "    }\n",
       "</style>\n",
       "<table border=\"1\" class=\"dataframe\">\n",
       "  <thead>\n",
       "    <tr style=\"text-align: right;\">\n",
       "      <th></th>\n",
       "      <th>supermarket</th>\n",
       "      <th>postal-code</th>\n",
       "    </tr>\n",
       "  </thead>\n",
       "  <tbody>\n",
       "    <tr>\n",
       "      <th>0</th>\n",
       "      <td>199</td>\n",
       "      <td>30319</td>\n",
       "    </tr>\n",
       "    <tr>\n",
       "      <th>1</th>\n",
       "      <td>200</td>\n",
       "      <td>30134</td>\n",
       "    </tr>\n",
       "    <tr>\n",
       "      <th>2</th>\n",
       "      <td>201</td>\n",
       "      <td>30066</td>\n",
       "    </tr>\n",
       "    <tr>\n",
       "      <th>3</th>\n",
       "      <td>202</td>\n",
       "      <td>31093</td>\n",
       "    </tr>\n",
       "    <tr>\n",
       "      <th>4</th>\n",
       "      <td>203</td>\n",
       "      <td>30542</td>\n",
       "    </tr>\n",
       "  </tbody>\n",
       "</table>\n",
       "</div>"
      ],
      "text/plain": [
       "   supermarket  postal-code\n",
       "0          199        30319\n",
       "1          200        30134\n",
       "2          201        30066\n",
       "3          202        31093\n",
       "4          203        30542"
      ]
     },
     "execution_count": 55,
     "metadata": {},
     "output_type": "execute_result"
    }
   ],
   "source": [
    "supermarkets.head()"
   ]
  },
  {
   "cell_type": "markdown",
   "metadata": {},
   "source": [
    "### Handling Missing Values (Discarding sizes due to inconsistencies)"
   ]
  },
  {
   "cell_type": "code",
   "execution_count": 56,
   "metadata": {},
   "outputs": [
    {
     "data": {
      "text/plain": [
       "(927, 4)"
      ]
     },
     "execution_count": 56,
     "metadata": {},
     "output_type": "execute_result"
    }
   ],
   "source": [
    "items = items.drop(columns=['size'], errors='ignore')\n",
    "items.shape"
   ]
  },
  {
   "cell_type": "code",
   "execution_count": 57,
   "metadata": {},
   "outputs": [],
   "source": [
    "#merging sales and items \n",
    "sales_items = pd.merge(sales, items, on='code', how='left')"
   ]
  },
  {
   "cell_type": "code",
   "execution_count": 58,
   "metadata": {},
   "outputs": [
    {
     "data": {
      "text/html": [
       "<div>\n",
       "<style scoped>\n",
       "    .dataframe tbody tr th:only-of-type {\n",
       "        vertical-align: middle;\n",
       "    }\n",
       "\n",
       "    .dataframe tbody tr th {\n",
       "        vertical-align: top;\n",
       "    }\n",
       "\n",
       "    .dataframe thead th {\n",
       "        text-align: right;\n",
       "    }\n",
       "</style>\n",
       "<table border=\"1\" class=\"dataframe\">\n",
       "  <thead>\n",
       "    <tr style=\"text-align: right;\">\n",
       "      <th></th>\n",
       "      <th>code</th>\n",
       "      <th>amount</th>\n",
       "      <th>units</th>\n",
       "      <th>time</th>\n",
       "      <th>province</th>\n",
       "      <th>week</th>\n",
       "      <th>customerId</th>\n",
       "      <th>supermarket</th>\n",
       "      <th>basket</th>\n",
       "      <th>day</th>\n",
       "      <th>voucher</th>\n",
       "      <th>descrption</th>\n",
       "      <th>type</th>\n",
       "      <th>brand</th>\n",
       "    </tr>\n",
       "  </thead>\n",
       "  <tbody>\n",
       "    <tr>\n",
       "      <th>0</th>\n",
       "      <td>7680850106</td>\n",
       "      <td>0.80</td>\n",
       "      <td>1</td>\n",
       "      <td>1100</td>\n",
       "      <td>2</td>\n",
       "      <td>1</td>\n",
       "      <td>125434</td>\n",
       "      <td>244</td>\n",
       "      <td>1</td>\n",
       "      <td>1</td>\n",
       "      <td>0</td>\n",
       "      <td>BARILLA ANGEL HAIR</td>\n",
       "      <td>Type 2</td>\n",
       "      <td>Barilla</td>\n",
       "    </tr>\n",
       "    <tr>\n",
       "      <th>1</th>\n",
       "      <td>3620000470</td>\n",
       "      <td>3.59</td>\n",
       "      <td>1</td>\n",
       "      <td>1100</td>\n",
       "      <td>2</td>\n",
       "      <td>1</td>\n",
       "      <td>125434</td>\n",
       "      <td>244</td>\n",
       "      <td>1</td>\n",
       "      <td>1</td>\n",
       "      <td>0</td>\n",
       "      <td>BERTOLLI TOM&amp;BASIL SAUCE</td>\n",
       "      <td>Type 3</td>\n",
       "      <td>Bertolli</td>\n",
       "    </tr>\n",
       "    <tr>\n",
       "      <th>2</th>\n",
       "      <td>1800028064</td>\n",
       "      <td>2.25</td>\n",
       "      <td>1</td>\n",
       "      <td>1137</td>\n",
       "      <td>2</td>\n",
       "      <td>1</td>\n",
       "      <td>108320</td>\n",
       "      <td>244</td>\n",
       "      <td>2</td>\n",
       "      <td>1</td>\n",
       "      <td>0</td>\n",
       "      <td>H J PANCK BTRMLK COMP MIX</td>\n",
       "      <td>Type 1</td>\n",
       "      <td>Hungry Jack</td>\n",
       "    </tr>\n",
       "    <tr>\n",
       "      <th>3</th>\n",
       "      <td>9999985067</td>\n",
       "      <td>0.85</td>\n",
       "      <td>1</td>\n",
       "      <td>1148</td>\n",
       "      <td>2</td>\n",
       "      <td>1</td>\n",
       "      <td>162016</td>\n",
       "      <td>244</td>\n",
       "      <td>3</td>\n",
       "      <td>1</td>\n",
       "      <td>0</td>\n",
       "      <td>PRIVATE LABEL VERMICELLI</td>\n",
       "      <td>Type 2</td>\n",
       "      <td>Private Label</td>\n",
       "    </tr>\n",
       "    <tr>\n",
       "      <th>4</th>\n",
       "      <td>9999985131</td>\n",
       "      <td>2.19</td>\n",
       "      <td>1</td>\n",
       "      <td>1323</td>\n",
       "      <td>2</td>\n",
       "      <td>1</td>\n",
       "      <td>89437</td>\n",
       "      <td>244</td>\n",
       "      <td>4</td>\n",
       "      <td>1</td>\n",
       "      <td>0</td>\n",
       "      <td>PRIVATE LABEL IMPORTED LASAGNA</td>\n",
       "      <td>Type 2</td>\n",
       "      <td>Private Label Premium</td>\n",
       "    </tr>\n",
       "  </tbody>\n",
       "</table>\n",
       "</div>"
      ],
      "text/plain": [
       "         code  amount  units  time  province  week  customerId  supermarket  \\\n",
       "0  7680850106    0.80      1  1100         2     1      125434          244   \n",
       "1  3620000470    3.59      1  1100         2     1      125434          244   \n",
       "2  1800028064    2.25      1  1137         2     1      108320          244   \n",
       "3  9999985067    0.85      1  1148         2     1      162016          244   \n",
       "4  9999985131    2.19      1  1323         2     1       89437          244   \n",
       "\n",
       "   basket  day  voucher                      descrption    type  \\\n",
       "0       1    1        0              BARILLA ANGEL HAIR  Type 2   \n",
       "1       1    1        0        BERTOLLI TOM&BASIL SAUCE  Type 3   \n",
       "2       2    1        0       H J PANCK BTRMLK COMP MIX  Type 1   \n",
       "3       3    1        0        PRIVATE LABEL VERMICELLI  Type 2   \n",
       "4       4    1        0  PRIVATE LABEL IMPORTED LASAGNA  Type 2   \n",
       "\n",
       "                   brand  \n",
       "0                Barilla  \n",
       "1               Bertolli  \n",
       "2            Hungry Jack  \n",
       "3          Private Label  \n",
       "4  Private Label Premium  "
      ]
     },
     "execution_count": 58,
     "metadata": {},
     "output_type": "execute_result"
    }
   ],
   "source": [
    "sales_items.head()"
   ]
  },
  {
   "cell_type": "markdown",
   "metadata": {},
   "source": [
    "#### Verifying if Sales and Sales Items are equal in row size"
   ]
  },
  {
   "cell_type": "code",
   "execution_count": 59,
   "metadata": {},
   "outputs": [
    {
     "name": "stdout",
     "output_type": "stream",
     "text": [
      "Sales Shape 1048575\n",
      "Sales_items Shape 1048575\n"
     ]
    }
   ],
   "source": [
    "if sales.shape[0] == sales_items.shape[0]:\n",
    "    print(\"Sales Shape\", sales.shape[0])\n",
    "    print(\"Sales_items Shape\", sales_items.shape[0])"
   ]
  },
  {
   "cell_type": "code",
   "execution_count": 60,
   "metadata": {},
   "outputs": [
    {
     "data": {
      "text/html": [
       "<div>\n",
       "<style scoped>\n",
       "    .dataframe tbody tr th:only-of-type {\n",
       "        vertical-align: middle;\n",
       "    }\n",
       "\n",
       "    .dataframe tbody tr th {\n",
       "        vertical-align: top;\n",
       "    }\n",
       "\n",
       "    .dataframe thead th {\n",
       "        text-align: right;\n",
       "    }\n",
       "</style>\n",
       "<table border=\"1\" class=\"dataframe\">\n",
       "  <thead>\n",
       "    <tr style=\"text-align: right;\">\n",
       "      <th></th>\n",
       "      <th>code</th>\n",
       "      <th>supermarket</th>\n",
       "      <th>week</th>\n",
       "      <th>feature</th>\n",
       "      <th>display</th>\n",
       "      <th>province</th>\n",
       "    </tr>\n",
       "  </thead>\n",
       "  <tbody>\n",
       "    <tr>\n",
       "      <th>0</th>\n",
       "      <td>2700042240</td>\n",
       "      <td>285</td>\n",
       "      <td>91</td>\n",
       "      <td>Not on Feature</td>\n",
       "      <td>Mid-Aisle End Cap</td>\n",
       "      <td>2</td>\n",
       "    </tr>\n",
       "    <tr>\n",
       "      <th>1</th>\n",
       "      <td>2700042292</td>\n",
       "      <td>285</td>\n",
       "      <td>92</td>\n",
       "      <td>Interior Page Feature</td>\n",
       "      <td>Not on Display</td>\n",
       "      <td>2</td>\n",
       "    </tr>\n",
       "    <tr>\n",
       "      <th>2</th>\n",
       "      <td>2700042274</td>\n",
       "      <td>285</td>\n",
       "      <td>92</td>\n",
       "      <td>Interior Page Feature</td>\n",
       "      <td>Not on Display</td>\n",
       "      <td>2</td>\n",
       "    </tr>\n",
       "    <tr>\n",
       "      <th>3</th>\n",
       "      <td>2700042273</td>\n",
       "      <td>285</td>\n",
       "      <td>92</td>\n",
       "      <td>Interior Page Feature</td>\n",
       "      <td>Not on Display</td>\n",
       "      <td>2</td>\n",
       "    </tr>\n",
       "    <tr>\n",
       "      <th>4</th>\n",
       "      <td>2700042254</td>\n",
       "      <td>285</td>\n",
       "      <td>92</td>\n",
       "      <td>Interior Page Feature</td>\n",
       "      <td>Not on Display</td>\n",
       "      <td>2</td>\n",
       "    </tr>\n",
       "  </tbody>\n",
       "</table>\n",
       "</div>"
      ],
      "text/plain": [
       "         code  supermarket  week                feature            display  \\\n",
       "0  2700042240          285    91         Not on Feature  Mid-Aisle End Cap   \n",
       "1  2700042292          285    92  Interior Page Feature     Not on Display   \n",
       "2  2700042274          285    92  Interior Page Feature     Not on Display   \n",
       "3  2700042273          285    92  Interior Page Feature     Not on Display   \n",
       "4  2700042254          285    92  Interior Page Feature     Not on Display   \n",
       "\n",
       "   province  \n",
       "0         2  \n",
       "1         2  \n",
       "2         2  \n",
       "3         2  \n",
       "4         2  "
      ]
     },
     "execution_count": 60,
     "metadata": {},
     "output_type": "execute_result"
    }
   ],
   "source": [
    "promotions.head()"
   ]
  },
  {
   "cell_type": "code",
   "execution_count": 61,
   "metadata": {},
   "outputs": [],
   "source": [
    "sales_items_promotions = pd.merge(sales_items, promotions, on=['code', 'supermarket', 'province'], how='left')"
   ]
  },
  {
   "cell_type": "code",
   "execution_count": 63,
   "metadata": {},
   "outputs": [
    {
     "data": {
      "text/html": [
       "<div>\n",
       "<style scoped>\n",
       "    .dataframe tbody tr th:only-of-type {\n",
       "        vertical-align: middle;\n",
       "    }\n",
       "\n",
       "    .dataframe tbody tr th {\n",
       "        vertical-align: top;\n",
       "    }\n",
       "\n",
       "    .dataframe thead th {\n",
       "        text-align: right;\n",
       "    }\n",
       "</style>\n",
       "<table border=\"1\" class=\"dataframe\">\n",
       "  <thead>\n",
       "    <tr style=\"text-align: right;\">\n",
       "      <th></th>\n",
       "      <th>code</th>\n",
       "      <th>amount</th>\n",
       "      <th>units</th>\n",
       "      <th>time</th>\n",
       "      <th>province</th>\n",
       "      <th>week_x</th>\n",
       "      <th>customerId</th>\n",
       "      <th>supermarket</th>\n",
       "      <th>basket</th>\n",
       "      <th>day</th>\n",
       "      <th>voucher</th>\n",
       "      <th>descrption</th>\n",
       "      <th>type</th>\n",
       "      <th>brand</th>\n",
       "      <th>week_y</th>\n",
       "      <th>feature</th>\n",
       "      <th>display</th>\n",
       "    </tr>\n",
       "  </thead>\n",
       "  <tbody>\n",
       "    <tr>\n",
       "      <th>0</th>\n",
       "      <td>7680850106</td>\n",
       "      <td>0.8</td>\n",
       "      <td>1</td>\n",
       "      <td>1100</td>\n",
       "      <td>2</td>\n",
       "      <td>1</td>\n",
       "      <td>125434</td>\n",
       "      <td>244</td>\n",
       "      <td>1</td>\n",
       "      <td>1</td>\n",
       "      <td>0</td>\n",
       "      <td>BARILLA ANGEL HAIR</td>\n",
       "      <td>Type 2</td>\n",
       "      <td>Barilla</td>\n",
       "      <td>83.0</td>\n",
       "      <td>Interior Page Feature</td>\n",
       "      <td>Not on Display</td>\n",
       "    </tr>\n",
       "    <tr>\n",
       "      <th>1</th>\n",
       "      <td>7680850106</td>\n",
       "      <td>0.8</td>\n",
       "      <td>1</td>\n",
       "      <td>1100</td>\n",
       "      <td>2</td>\n",
       "      <td>1</td>\n",
       "      <td>125434</td>\n",
       "      <td>244</td>\n",
       "      <td>1</td>\n",
       "      <td>1</td>\n",
       "      <td>0</td>\n",
       "      <td>BARILLA ANGEL HAIR</td>\n",
       "      <td>Type 2</td>\n",
       "      <td>Barilla</td>\n",
       "      <td>72.0</td>\n",
       "      <td>Interior Page Feature</td>\n",
       "      <td>Not on Display</td>\n",
       "    </tr>\n",
       "    <tr>\n",
       "      <th>2</th>\n",
       "      <td>7680850106</td>\n",
       "      <td>0.8</td>\n",
       "      <td>1</td>\n",
       "      <td>1100</td>\n",
       "      <td>2</td>\n",
       "      <td>1</td>\n",
       "      <td>125434</td>\n",
       "      <td>244</td>\n",
       "      <td>1</td>\n",
       "      <td>1</td>\n",
       "      <td>0</td>\n",
       "      <td>BARILLA ANGEL HAIR</td>\n",
       "      <td>Type 2</td>\n",
       "      <td>Barilla</td>\n",
       "      <td>68.0</td>\n",
       "      <td>Interior Page Feature</td>\n",
       "      <td>Not on Display</td>\n",
       "    </tr>\n",
       "    <tr>\n",
       "      <th>3</th>\n",
       "      <td>7680850106</td>\n",
       "      <td>0.8</td>\n",
       "      <td>1</td>\n",
       "      <td>1100</td>\n",
       "      <td>2</td>\n",
       "      <td>1</td>\n",
       "      <td>125434</td>\n",
       "      <td>244</td>\n",
       "      <td>1</td>\n",
       "      <td>1</td>\n",
       "      <td>0</td>\n",
       "      <td>BARILLA ANGEL HAIR</td>\n",
       "      <td>Type 2</td>\n",
       "      <td>Barilla</td>\n",
       "      <td>67.0</td>\n",
       "      <td>Interior Page Feature</td>\n",
       "      <td>Not on Display</td>\n",
       "    </tr>\n",
       "    <tr>\n",
       "      <th>4</th>\n",
       "      <td>7680850106</td>\n",
       "      <td>0.8</td>\n",
       "      <td>1</td>\n",
       "      <td>1100</td>\n",
       "      <td>2</td>\n",
       "      <td>1</td>\n",
       "      <td>125434</td>\n",
       "      <td>244</td>\n",
       "      <td>1</td>\n",
       "      <td>1</td>\n",
       "      <td>0</td>\n",
       "      <td>BARILLA ANGEL HAIR</td>\n",
       "      <td>Type 2</td>\n",
       "      <td>Barilla</td>\n",
       "      <td>46.0</td>\n",
       "      <td>Interior Page Feature</td>\n",
       "      <td>Not on Display</td>\n",
       "    </tr>\n",
       "  </tbody>\n",
       "</table>\n",
       "</div>"
      ],
      "text/plain": [
       "         code  amount  units  time  province  week_x  customerId  supermarket  \\\n",
       "0  7680850106     0.8      1  1100         2       1      125434          244   \n",
       "1  7680850106     0.8      1  1100         2       1      125434          244   \n",
       "2  7680850106     0.8      1  1100         2       1      125434          244   \n",
       "3  7680850106     0.8      1  1100         2       1      125434          244   \n",
       "4  7680850106     0.8      1  1100         2       1      125434          244   \n",
       "\n",
       "   basket  day  voucher          descrption    type    brand  week_y  \\\n",
       "0       1    1        0  BARILLA ANGEL HAIR  Type 2  Barilla    83.0   \n",
       "1       1    1        0  BARILLA ANGEL HAIR  Type 2  Barilla    72.0   \n",
       "2       1    1        0  BARILLA ANGEL HAIR  Type 2  Barilla    68.0   \n",
       "3       1    1        0  BARILLA ANGEL HAIR  Type 2  Barilla    67.0   \n",
       "4       1    1        0  BARILLA ANGEL HAIR  Type 2  Barilla    46.0   \n",
       "\n",
       "                 feature         display  \n",
       "0  Interior Page Feature  Not on Display  \n",
       "1  Interior Page Feature  Not on Display  \n",
       "2  Interior Page Feature  Not on Display  \n",
       "3  Interior Page Feature  Not on Display  \n",
       "4  Interior Page Feature  Not on Display  "
      ]
     },
     "execution_count": 63,
     "metadata": {},
     "output_type": "execute_result"
    }
   ],
   "source": [
    "sales_items_promotions.head()"
   ]
  },
  {
   "cell_type": "code",
   "execution_count": 64,
   "metadata": {},
   "outputs": [],
   "source": [
    "final_dataset = pd.merge(\n",
    "    sales_items_promotions, \n",
    "    supermarkets,\n",
    "    on='supermarket',\n",
    "    how='left'\n",
    ")"
   ]
  },
  {
   "cell_type": "code",
   "execution_count": 65,
   "metadata": {},
   "outputs": [
    {
     "data": {
      "text/plain": [
       "(4184347, 18)"
      ]
     },
     "execution_count": 65,
     "metadata": {},
     "output_type": "execute_result"
    }
   ],
   "source": [
    "final_dataset.shape"
   ]
  },
  {
   "cell_type": "code",
   "execution_count": 66,
   "metadata": {},
   "outputs": [
    {
     "name": "stdout",
     "output_type": "stream",
     "text": [
      "<class 'pandas.core.frame.DataFrame'>\n",
      "RangeIndex: 4184347 entries, 0 to 4184346\n",
      "Data columns (total 18 columns):\n",
      " #   Column       Dtype  \n",
      "---  ------       -----  \n",
      " 0   code         int64  \n",
      " 1   amount       float64\n",
      " 2   units        int64  \n",
      " 3   time         int64  \n",
      " 4   province     int64  \n",
      " 5   week_x       int64  \n",
      " 6   customerId   int64  \n",
      " 7   supermarket  int64  \n",
      " 8   basket       int64  \n",
      " 9   day          int64  \n",
      " 10  voucher      int64  \n",
      " 11  descrption   object \n",
      " 12  type         object \n",
      " 13  brand        object \n",
      " 14  week_y       float64\n",
      " 15  feature      object \n",
      " 16  display      object \n",
      " 17  postal-code  int64  \n",
      "dtypes: float64(2), int64(11), object(5)\n",
      "memory usage: 574.6+ MB\n"
     ]
    }
   ],
   "source": [
    "final_dataset.info()"
   ]
  },
  {
   "cell_type": "code",
   "execution_count": 67,
   "metadata": {},
   "outputs": [],
   "source": [
    "final_dataset.to_csv('final_dataset', index=False)"
   ]
  },
  {
   "cell_type": "code",
   "execution_count": 68,
   "metadata": {},
   "outputs": [
    {
     "name": "stdout",
     "output_type": "stream",
     "text": [
      "Number of rows before removing duplicates: 4184347\n",
      "Number of rows after removing duplicates: 4184347\n"
     ]
    }
   ],
   "source": [
    "# Remove duplicates from the final dataset\n",
    "final_dataset_cleaned = final_dataset.drop_duplicates()\n",
    "\n",
    "# Display the number of rows before and after removing duplicates\n",
    "print(f\"Number of rows before removing duplicates: {len(final_dataset)}\")\n",
    "print(f\"Number of rows after removing duplicates: {len(final_dataset_cleaned)}\")\n",
    "\n",
    "# # Save the cleaned dataset\n",
    "# final_dataset_cleaned.to_csv('final_sales_dataset_cleaned.csv', index=False)\n",
    "# print(\"\\nCleaned dataset (duplicates removed) saved as 'final_sales_dataset_cleaned.csv'.\")\n"
   ]
  },
  {
   "cell_type": "code",
   "execution_count": 69,
   "metadata": {},
   "outputs": [],
   "source": [
    "final_dataset_cleaned = final_dataset_cleaned.dropna()"
   ]
  },
  {
   "cell_type": "code",
   "execution_count": 70,
   "metadata": {},
   "outputs": [
    {
     "data": {
      "text/plain": [
       "(3844549, 18)"
      ]
     },
     "execution_count": 70,
     "metadata": {},
     "output_type": "execute_result"
    }
   ],
   "source": [
    "final_dataset_cleaned.shape"
   ]
  },
  {
   "cell_type": "code",
   "execution_count": null,
   "metadata": {},
   "outputs": [],
   "source": []
  }
 ],
 "metadata": {
  "kernelspec": {
   "display_name": "py3-8-11",
   "language": "python",
   "name": "python3"
  },
  "language_info": {
   "codemirror_mode": {
    "name": "ipython",
    "version": 3
   },
   "file_extension": ".py",
   "mimetype": "text/x-python",
   "name": "python",
   "nbconvert_exporter": "python",
   "pygments_lexer": "ipython3",
   "version": "3.8.19"
  }
 },
 "nbformat": 4,
 "nbformat_minor": 2
}
